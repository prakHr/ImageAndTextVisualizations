{
 "cells": [
  {
   "cell_type": "code",
   "execution_count": 1,
   "id": "6793caee",
   "metadata": {},
   "outputs": [],
   "source": [
    "from docarray import DocumentArray,Document\n",
    "import pandas as pd"
   ]
  },
  {
   "cell_type": "code",
   "execution_count": 2,
   "id": "f9e20a3b",
   "metadata": {},
   "outputs": [],
   "source": [
    "import torch\n",
    "torch.cuda.empty_cache()"
   ]
  },
  {
   "cell_type": "code",
   "execution_count": 3,
   "id": "6b08741b",
   "metadata": {},
   "outputs": [],
   "source": [
    "import os,random\n"
   ]
  },
  {
   "cell_type": "code",
   "execution_count": 4,
   "id": "c685f0ed",
   "metadata": {},
   "outputs": [],
   "source": [
    "cuda2 = torch.device('cuda:0')"
   ]
  },
  {
   "cell_type": "code",
   "execution_count": 5,
   "id": "3b3b56df",
   "metadata": {},
   "outputs": [
    {
     "name": "stdout",
     "output_type": "stream",
     "text": [
      "100000\n",
      "Wall time: 2.22 s\n"
     ]
    }
   ],
   "source": [
    "%%time\n",
    "csv_text_dataset = r'C:\\Users\\gprak\\Downloads\\Indian_Thai_BankNotes_Dataset\\jinaTextVisualizations\\textDataset\\training.1600000.processed.noemoticon.csv'\n",
    "\n",
    "all_texts_df = pd.read_csv(csv_text_dataset,encoding='latin-1')\n",
    "text_column = all_texts_df.columns[5]\n",
    "# print(text_column)\n",
    "sentences = all_texts_df[text_column][:100000].tolist()\n",
    "print(len(sentences))"
   ]
  },
  {
   "cell_type": "code",
   "execution_count": 6,
   "id": "8dc4d796",
   "metadata": {},
   "outputs": [
    {
     "name": "stdout",
     "output_type": "stream",
     "text": [
      "100000\n",
      "Wall time: 768 ms\n"
     ]
    }
   ],
   "source": [
    "%%time\n",
    "da = DocumentArray([Document(text = sentence) for sentence in sentences])\n",
    "print(len(da))"
   ]
  },
  {
   "cell_type": "code",
   "execution_count": 7,
   "id": "4acbe325",
   "metadata": {},
   "outputs": [
    {
     "data": {
      "text/html": [
       "<pre style=\"white-space:pre;overflow-x:auto;line-height:normal;font-family:Menlo,'DejaVu Sans Mono',consolas,'Courier New',monospace\">\n",
       "</pre>\n"
      ],
      "text/plain": [
       "\n"
      ]
     },
     "metadata": {},
     "output_type": "display_data"
    },
    {
     "name": "stdout",
     "output_type": "stream",
     "text": [
      "Wall time: 1min 4s\n"
     ]
    },
    {
     "data": {
      "text/html": [
       "<pre style=\"white-space:pre;overflow-x:auto;line-height:normal;font-family:Menlo,'DejaVu Sans Mono',consolas,'Courier New',monospace\">╭────────────────── Documents Summary ───────────────────╮\n",
       "│                                                        │\n",
       "│   Length                 <span style=\"color: #008080; text-decoration-color: #008080; font-weight: bold\">100000</span>                        │\n",
       "│   Homogenous Documents   <span style=\"color: #00ff00; text-decoration-color: #00ff00; font-style: italic\">True</span>                          │\n",
       "│   Common Attributes      <span style=\"font-weight: bold\">(</span><span style=\"color: #008000; text-decoration-color: #008000\">'id'</span>, <span style=\"color: #008000; text-decoration-color: #008000\">'text'</span>, <span style=\"color: #008000; text-decoration-color: #008000\">'embedding'</span><span style=\"font-weight: bold\">)</span>   │\n",
       "│   Multimodal dataclass   <span style=\"color: #ff0000; text-decoration-color: #ff0000; font-style: italic\">False</span>                         │\n",
       "│                                                        │\n",
       "╰────────────────────────────────────────────────────────╯\n",
       "╭────────────────────── Attributes Summary ───────────────────────╮\n",
       "│                                                                 │\n",
       "│  <span style=\"font-weight: bold\"> Attribute </span> <span style=\"font-weight: bold\"> Data type    </span> <span style=\"font-weight: bold\"> #Unique values </span> <span style=\"font-weight: bold\"> Has empty value </span>  │\n",
       "│  ─────────────────────────────────────────────────────────────  │\n",
       "│   embedding   <span style=\"font-weight: bold\">(</span><span style=\"color: #008000; text-decoration-color: #008000\">'ndarray'</span>,<span style=\"font-weight: bold\">)</span>   <span style=\"color: #008080; text-decoration-color: #008080; font-weight: bold\">100000</span>           <span style=\"color: #ff0000; text-decoration-color: #ff0000; font-style: italic\">False</span>             │\n",
       "│   id          <span style=\"font-weight: bold\">(</span><span style=\"color: #008000; text-decoration-color: #008000\">'str'</span>,<span style=\"font-weight: bold\">)</span>       <span style=\"color: #008080; text-decoration-color: #008080; font-weight: bold\">100000</span>           <span style=\"color: #ff0000; text-decoration-color: #ff0000; font-style: italic\">False</span>             │\n",
       "│   text        <span style=\"font-weight: bold\">(</span><span style=\"color: #008000; text-decoration-color: #008000\">'str'</span>,<span style=\"font-weight: bold\">)</span>       <span style=\"color: #008080; text-decoration-color: #008080; font-weight: bold\">99182</span>            <span style=\"color: #ff0000; text-decoration-color: #ff0000; font-style: italic\">False</span>             │\n",
       "│                                                                 │\n",
       "╰─────────────────────────────────────────────────────────────────╯\n",
       "</pre>\n"
      ],
      "text/plain": [
       "╭────────────────── Documents Summary ───────────────────╮\n",
       "│                                                        │\n",
       "│   Length                 \u001b[1;36m100000\u001b[0m                        │\n",
       "│   Homogenous Documents   \u001b[3;92mTrue\u001b[0m                          │\n",
       "│   Common Attributes      \u001b[1m(\u001b[0m\u001b[32m'id'\u001b[0m, \u001b[32m'text'\u001b[0m, \u001b[32m'embedding'\u001b[0m\u001b[1m)\u001b[0m   │\n",
       "│   Multimodal dataclass   \u001b[3;91mFalse\u001b[0m                         │\n",
       "│                                                        │\n",
       "╰────────────────────────────────────────────────────────╯\n",
       "╭────────────────────── Attributes Summary ───────────────────────╮\n",
       "│                                                                 │\n",
       "│  \u001b[1m \u001b[0m\u001b[1mAttribute\u001b[0m\u001b[1m \u001b[0m \u001b[1m \u001b[0m\u001b[1mData type   \u001b[0m\u001b[1m \u001b[0m \u001b[1m \u001b[0m\u001b[1m#Unique values\u001b[0m\u001b[1m \u001b[0m \u001b[1m \u001b[0m\u001b[1mHas empty value\u001b[0m\u001b[1m \u001b[0m  │\n",
       "│  ─────────────────────────────────────────────────────────────  │\n",
       "│   embedding   \u001b[1m(\u001b[0m\u001b[32m'ndarray'\u001b[0m,\u001b[1m)\u001b[0m   \u001b[1;36m100000\u001b[0m           \u001b[3;91mFalse\u001b[0m             │\n",
       "│   id          \u001b[1m(\u001b[0m\u001b[32m'str'\u001b[0m,\u001b[1m)\u001b[0m       \u001b[1;36m100000\u001b[0m           \u001b[3;91mFalse\u001b[0m             │\n",
       "│   text        \u001b[1m(\u001b[0m\u001b[32m'str'\u001b[0m,\u001b[1m)\u001b[0m       \u001b[1;36m99182\u001b[0m            \u001b[3;91mFalse\u001b[0m             │\n",
       "│                                                                 │\n",
       "╰─────────────────────────────────────────────────────────────────╯\n"
      ]
     },
     "metadata": {},
     "output_type": "display_data"
    }
   ],
   "source": [
    "%%time\n",
    "da.apply(lambda d:d.embed_feature_hashing())"
   ]
  },
  {
   "cell_type": "code",
   "execution_count": 8,
   "id": "3de4f8c2",
   "metadata": {},
   "outputs": [
    {
     "data": {
      "text/html": [
       "<pre style=\"white-space:pre;overflow-x:auto;line-height:normal;font-family:Menlo,'DejaVu Sans Mono',consolas,'Courier New',monospace\">📄 <span style=\"font-weight: bold\">Document</span>: <span style=\"color: #008080; text-decoration-color: #008080\">c218edca3002f0302dfff6be839780bf</span>\n",
       "╭───────────┬──────────────────────────────────────────────────────────────────╮\n",
       "│<span style=\"font-weight: bold\"> Attribute </span>│<span style=\"font-weight: bold\"> Value                                                            </span>│\n",
       "├───────────┼──────────────────────────────────────────────────────────────────┤\n",
       "│ text      │ is upset that he can't update his Facebook by texting it<span style=\"color: #808000; text-decoration-color: #808000\">...</span> and  │\n",
       "│           │ might cry as a result  School today <span style=\"color: #808000; text-decoration-color: #808000\">...</span> <span style=\"color: #7f7f7f; text-decoration-color: #7f7f7f; font-weight: bold\">(</span><span style=\"color: #7f7f7f; text-decoration-color: #7f7f7f\">length: </span><span style=\"color: #7fbfbf; text-decoration-color: #7fbfbf; font-weight: bold\">111</span><span style=\"color: #7f7f7f; text-decoration-color: #7f7f7f; font-weight: bold\">)</span>            │\n",
       "│ embedding │ <span style=\"color: #2b0056; text-decoration-color: #2b0056; background-color: #2b0056\">▄▄▄▄▄▄▄▄▄▄▄▄▄▄▄▄▄▄▄▄▄▄▄▄▄▄▄▄▄▄▄▄▄▄▄▄▄▄▄▄▄▄▄▄▄▄▄▄▄▄▄▄▄▄▄▄▄▄▄▄▄▄▄▄</span> │\n",
       "│           │ <span style=\"color: #2b0056; text-decoration-color: #2b0056; background-color: #2b0056\">▄▄▄▄▄▄▄▄▄▄▄▄▄▄▄▄▄▄▄▄▄▄▄▄▄▄▄▄▄▄▄▄▄▄▄▄▄▄▄▄▄▄▄▄▄▄▄▄▄▄▄▄▄▄▄▄▄▄▄▄▄▄▄▄</span> │\n",
       "│           │ <span style=\"color: #2b0056; text-decoration-color: #2b0056; background-color: #2b0056\">▄▄▄▄▄▄▄▄▄▄▄▄▄▄▄▄▄▄▄▄▄▄▄▄▄▄▄▄▄▄▄▄▄▄▄▄▄▄▄▄▄▄▄▄▄▄▄▄▄▄▄▄▄▄▄▄▄▄▄▄▄▄▄▄</span> │\n",
       "│           │ <span style=\"color: #2b0056; text-decoration-color: #2b0056; background-color: #2b0056\">▄▄▄▄▄▄▄▄▄▄▄▄▄▄▄▄</span><span style=\"color: #ddbcff; text-decoration-color: #ddbcff; background-color: #ddbcff\">▄</span><span style=\"color: #2b0056; text-decoration-color: #2b0056; background-color: #2b0056\">▄▄▄▄▄▄▄▄▄▄▄▄▄▄▄▄▄▄▄▄▄▄▄▄▄▄▄▄▄▄▄▄▄▄▄▄▄▄▄▄▄▄▄▄▄▄</span>  │\n",
       "╰───────────┴──────────────────────────────────────────────────────────────────╯\n",
       "</pre>\n"
      ],
      "text/plain": [
       "📄 \u001b[1mDocument\u001b[0m: \u001b[36mc218edca3002f0302dfff6be839780bf\u001b[0m\n",
       "╭───────────┬──────────────────────────────────────────────────────────────────╮\n",
       "│\u001b[1m \u001b[0m\u001b[1mAttribute\u001b[0m\u001b[1m \u001b[0m│\u001b[1m \u001b[0m\u001b[1mValue                                                           \u001b[0m\u001b[1m \u001b[0m│\n",
       "├───────────┼──────────────────────────────────────────────────────────────────┤\n",
       "│ text      │ is upset that he can't update his Facebook by texting it\u001b[33m...\u001b[0m and  │\n",
       "│           │ might cry as a result  School today \u001b[33m...\u001b[0m \u001b[1;2m(\u001b[0m\u001b[2mlength: \u001b[0m\u001b[1;2;36m111\u001b[0m\u001b[1;2m)\u001b[0m            │\n",
       "│ embedding │ \u001b[38;2;43;0;86;48;2;43;0;86m▄\u001b[0m\u001b[38;2;43;0;86;48;2;43;0;86m▄\u001b[0m\u001b[38;2;43;0;86;48;2;43;0;86m▄\u001b[0m\u001b[38;2;43;0;86;48;2;43;0;86m▄\u001b[0m\u001b[38;2;43;0;86;48;2;43;0;86m▄\u001b[0m\u001b[38;2;43;0;86;48;2;43;0;86m▄\u001b[0m\u001b[38;2;43;0;86;48;2;43;0;86m▄\u001b[0m\u001b[38;2;43;0;86;48;2;43;0;86m▄\u001b[0m\u001b[38;2;43;0;86;48;2;43;0;86m▄\u001b[0m\u001b[38;2;43;0;86;48;2;43;0;86m▄\u001b[0m\u001b[38;2;43;0;86;48;2;43;0;86m▄\u001b[0m\u001b[38;2;43;0;86;48;2;43;0;86m▄\u001b[0m\u001b[38;2;43;0;86;48;2;43;0;86m▄\u001b[0m\u001b[38;2;43;0;86;48;2;43;0;86m▄\u001b[0m\u001b[38;2;43;0;86;48;2;43;0;86m▄\u001b[0m\u001b[38;2;43;0;86;48;2;43;0;86m▄\u001b[0m\u001b[38;2;43;0;86;48;2;43;0;86m▄\u001b[0m\u001b[38;2;43;0;86;48;2;43;0;86m▄\u001b[0m\u001b[38;2;43;0;86;48;2;43;0;86m▄\u001b[0m\u001b[38;2;43;0;86;48;2;43;0;86m▄\u001b[0m\u001b[38;2;43;0;86;48;2;43;0;86m▄\u001b[0m\u001b[38;2;43;0;86;48;2;43;0;86m▄\u001b[0m\u001b[38;2;43;0;86;48;2;43;0;86m▄\u001b[0m\u001b[38;2;43;0;86;48;2;43;0;86m▄\u001b[0m\u001b[38;2;43;0;86;48;2;43;0;86m▄\u001b[0m\u001b[38;2;43;0;86;48;2;43;0;86m▄\u001b[0m\u001b[38;2;43;0;86;48;2;43;0;86m▄\u001b[0m\u001b[38;2;43;0;86;48;2;43;0;86m▄\u001b[0m\u001b[38;2;43;0;86;48;2;43;0;86m▄\u001b[0m\u001b[38;2;43;0;86;48;2;43;0;86m▄\u001b[0m\u001b[38;2;43;0;86;48;2;43;0;86m▄\u001b[0m\u001b[38;2;43;0;86;48;2;43;0;86m▄\u001b[0m\u001b[38;2;43;0;86;48;2;43;0;86m▄\u001b[0m\u001b[38;2;43;0;86;48;2;43;0;86m▄\u001b[0m\u001b[38;2;43;0;86;48;2;43;0;86m▄\u001b[0m\u001b[38;2;43;0;86;48;2;43;0;86m▄\u001b[0m\u001b[38;2;43;0;86;48;2;43;0;86m▄\u001b[0m\u001b[38;2;43;0;86;48;2;43;0;86m▄\u001b[0m\u001b[38;2;43;0;86;48;2;43;0;86m▄\u001b[0m\u001b[38;2;43;0;86;48;2;43;0;86m▄\u001b[0m\u001b[38;2;43;0;86;48;2;43;0;86m▄\u001b[0m\u001b[38;2;43;0;86;48;2;43;0;86m▄\u001b[0m\u001b[38;2;43;0;86;48;2;43;0;86m▄\u001b[0m\u001b[38;2;43;0;86;48;2;43;0;86m▄\u001b[0m\u001b[38;2;43;0;86;48;2;43;0;86m▄\u001b[0m\u001b[38;2;43;0;86;48;2;43;0;86m▄\u001b[0m\u001b[38;2;43;0;86;48;2;43;0;86m▄\u001b[0m\u001b[38;2;43;0;86;48;2;43;0;86m▄\u001b[0m\u001b[38;2;43;0;86;48;2;43;0;86m▄\u001b[0m\u001b[38;2;43;0;86;48;2;43;0;86m▄\u001b[0m\u001b[38;2;43;0;86;48;2;43;0;86m▄\u001b[0m\u001b[38;2;43;0;86;48;2;43;0;86m▄\u001b[0m\u001b[38;2;43;0;86;48;2;43;0;86m▄\u001b[0m\u001b[38;2;43;0;86;48;2;43;0;86m▄\u001b[0m\u001b[38;2;43;0;86;48;2;43;0;86m▄\u001b[0m\u001b[38;2;43;0;86;48;2;43;0;86m▄\u001b[0m\u001b[38;2;43;0;86;48;2;43;0;86m▄\u001b[0m\u001b[38;2;43;0;86;48;2;43;0;86m▄\u001b[0m\u001b[38;2;43;0;86;48;2;43;0;86m▄\u001b[0m\u001b[38;2;43;0;86;48;2;43;0;86m▄\u001b[0m\u001b[38;2;43;0;86;48;2;43;0;86m▄\u001b[0m\u001b[38;2;43;0;86;48;2;43;0;86m▄\u001b[0m\u001b[38;2;43;0;86;48;2;43;0;86m▄\u001b[0m\u001b[38;2;43;0;86;48;2;43;0;86m▄\u001b[0m │\n",
       "│           │ \u001b[38;2;43;0;86;48;2;43;0;86m▄\u001b[0m\u001b[38;2;43;0;86;48;2;43;0;86m▄\u001b[0m\u001b[38;2;43;0;86;48;2;43;0;86m▄\u001b[0m\u001b[38;2;43;0;86;48;2;43;0;86m▄\u001b[0m\u001b[38;2;43;0;86;48;2;43;0;86m▄\u001b[0m\u001b[38;2;43;0;86;48;2;43;0;86m▄\u001b[0m\u001b[38;2;43;0;86;48;2;43;0;86m▄\u001b[0m\u001b[38;2;43;0;86;48;2;43;0;86m▄\u001b[0m\u001b[38;2;43;0;86;48;2;43;0;86m▄\u001b[0m\u001b[38;2;43;0;86;48;2;43;0;86m▄\u001b[0m\u001b[38;2;43;0;86;48;2;43;0;86m▄\u001b[0m\u001b[38;2;43;0;86;48;2;43;0;86m▄\u001b[0m\u001b[38;2;43;0;86;48;2;43;0;86m▄\u001b[0m\u001b[38;2;43;0;86;48;2;43;0;86m▄\u001b[0m\u001b[38;2;43;0;86;48;2;43;0;86m▄\u001b[0m\u001b[38;2;43;0;86;48;2;43;0;86m▄\u001b[0m\u001b[38;2;43;0;86;48;2;43;0;86m▄\u001b[0m\u001b[38;2;43;0;86;48;2;43;0;86m▄\u001b[0m\u001b[38;2;43;0;86;48;2;43;0;86m▄\u001b[0m\u001b[38;2;43;0;86;48;2;43;0;86m▄\u001b[0m\u001b[38;2;43;0;86;48;2;43;0;86m▄\u001b[0m\u001b[38;2;43;0;86;48;2;43;0;86m▄\u001b[0m\u001b[38;2;43;0;86;48;2;43;0;86m▄\u001b[0m\u001b[38;2;43;0;86;48;2;43;0;86m▄\u001b[0m\u001b[38;2;43;0;86;48;2;43;0;86m▄\u001b[0m\u001b[38;2;43;0;86;48;2;43;0;86m▄\u001b[0m\u001b[38;2;43;0;86;48;2;43;0;86m▄\u001b[0m\u001b[38;2;43;0;86;48;2;43;0;86m▄\u001b[0m\u001b[38;2;43;0;86;48;2;43;0;86m▄\u001b[0m\u001b[38;2;43;0;86;48;2;43;0;86m▄\u001b[0m\u001b[38;2;43;0;86;48;2;43;0;86m▄\u001b[0m\u001b[38;2;43;0;86;48;2;43;0;86m▄\u001b[0m\u001b[38;2;43;0;86;48;2;43;0;86m▄\u001b[0m\u001b[38;2;43;0;86;48;2;43;0;86m▄\u001b[0m\u001b[38;2;43;0;86;48;2;43;0;86m▄\u001b[0m\u001b[38;2;43;0;86;48;2;43;0;86m▄\u001b[0m\u001b[38;2;43;0;86;48;2;43;0;86m▄\u001b[0m\u001b[38;2;43;0;86;48;2;43;0;86m▄\u001b[0m\u001b[38;2;43;0;86;48;2;43;0;86m▄\u001b[0m\u001b[38;2;43;0;86;48;2;43;0;86m▄\u001b[0m\u001b[38;2;43;0;86;48;2;43;0;86m▄\u001b[0m\u001b[38;2;43;0;86;48;2;43;0;86m▄\u001b[0m\u001b[38;2;43;0;86;48;2;43;0;86m▄\u001b[0m\u001b[38;2;43;0;86;48;2;43;0;86m▄\u001b[0m\u001b[38;2;43;0;86;48;2;43;0;86m▄\u001b[0m\u001b[38;2;43;0;86;48;2;43;0;86m▄\u001b[0m\u001b[38;2;43;0;86;48;2;43;0;86m▄\u001b[0m\u001b[38;2;43;0;86;48;2;43;0;86m▄\u001b[0m\u001b[38;2;43;0;86;48;2;43;0;86m▄\u001b[0m\u001b[38;2;43;0;86;48;2;43;0;86m▄\u001b[0m\u001b[38;2;43;0;86;48;2;43;0;86m▄\u001b[0m\u001b[38;2;43;0;86;48;2;43;0;86m▄\u001b[0m\u001b[38;2;43;0;86;48;2;43;0;86m▄\u001b[0m\u001b[38;2;43;0;86;48;2;43;0;86m▄\u001b[0m\u001b[38;2;43;0;86;48;2;43;0;86m▄\u001b[0m\u001b[38;2;43;0;86;48;2;43;0;86m▄\u001b[0m\u001b[38;2;43;0;86;48;2;43;0;86m▄\u001b[0m\u001b[38;2;43;0;86;48;2;43;0;86m▄\u001b[0m\u001b[38;2;43;0;86;48;2;43;0;86m▄\u001b[0m\u001b[38;2;43;0;86;48;2;43;0;86m▄\u001b[0m\u001b[38;2;43;0;86;48;2;43;0;86m▄\u001b[0m\u001b[38;2;43;0;86;48;2;43;0;86m▄\u001b[0m\u001b[38;2;43;0;86;48;2;43;0;86m▄\u001b[0m\u001b[38;2;43;0;86;48;2;43;0;86m▄\u001b[0m │\n",
       "│           │ \u001b[38;2;43;0;86;48;2;43;0;86m▄\u001b[0m\u001b[38;2;43;0;86;48;2;43;0;86m▄\u001b[0m\u001b[38;2;43;0;86;48;2;43;0;86m▄\u001b[0m\u001b[38;2;43;0;86;48;2;43;0;86m▄\u001b[0m\u001b[38;2;43;0;86;48;2;43;0;86m▄\u001b[0m\u001b[38;2;43;0;86;48;2;43;0;86m▄\u001b[0m\u001b[38;2;43;0;86;48;2;43;0;86m▄\u001b[0m\u001b[38;2;43;0;86;48;2;43;0;86m▄\u001b[0m\u001b[38;2;43;0;86;48;2;43;0;86m▄\u001b[0m\u001b[38;2;43;0;86;48;2;43;0;86m▄\u001b[0m\u001b[38;2;43;0;86;48;2;43;0;86m▄\u001b[0m\u001b[38;2;43;0;86;48;2;43;0;86m▄\u001b[0m\u001b[38;2;43;0;86;48;2;43;0;86m▄\u001b[0m\u001b[38;2;43;0;86;48;2;43;0;86m▄\u001b[0m\u001b[38;2;43;0;86;48;2;43;0;86m▄\u001b[0m\u001b[38;2;43;0;86;48;2;43;0;86m▄\u001b[0m\u001b[38;2;43;0;86;48;2;43;0;86m▄\u001b[0m\u001b[38;2;43;0;86;48;2;43;0;86m▄\u001b[0m\u001b[38;2;43;0;86;48;2;43;0;86m▄\u001b[0m\u001b[38;2;43;0;86;48;2;43;0;86m▄\u001b[0m\u001b[38;2;43;0;86;48;2;43;0;86m▄\u001b[0m\u001b[38;2;43;0;86;48;2;43;0;86m▄\u001b[0m\u001b[38;2;43;0;86;48;2;43;0;86m▄\u001b[0m\u001b[38;2;43;0;86;48;2;43;0;86m▄\u001b[0m\u001b[38;2;43;0;86;48;2;43;0;86m▄\u001b[0m\u001b[38;2;43;0;86;48;2;43;0;86m▄\u001b[0m\u001b[38;2;43;0;86;48;2;43;0;86m▄\u001b[0m\u001b[38;2;43;0;86;48;2;43;0;86m▄\u001b[0m\u001b[38;2;43;0;86;48;2;43;0;86m▄\u001b[0m\u001b[38;2;43;0;86;48;2;43;0;86m▄\u001b[0m\u001b[38;2;43;0;86;48;2;43;0;86m▄\u001b[0m\u001b[38;2;43;0;86;48;2;43;0;86m▄\u001b[0m\u001b[38;2;43;0;86;48;2;43;0;86m▄\u001b[0m\u001b[38;2;43;0;86;48;2;43;0;86m▄\u001b[0m\u001b[38;2;43;0;86;48;2;43;0;86m▄\u001b[0m\u001b[38;2;43;0;86;48;2;43;0;86m▄\u001b[0m\u001b[38;2;43;0;86;48;2;43;0;86m▄\u001b[0m\u001b[38;2;43;0;86;48;2;43;0;86m▄\u001b[0m\u001b[38;2;43;0;86;48;2;43;0;86m▄\u001b[0m\u001b[38;2;43;0;86;48;2;43;0;86m▄\u001b[0m\u001b[38;2;43;0;86;48;2;43;0;86m▄\u001b[0m\u001b[38;2;43;0;86;48;2;43;0;86m▄\u001b[0m\u001b[38;2;43;0;86;48;2;43;0;86m▄\u001b[0m\u001b[38;2;43;0;86;48;2;43;0;86m▄\u001b[0m\u001b[38;2;43;0;86;48;2;43;0;86m▄\u001b[0m\u001b[38;2;43;0;86;48;2;43;0;86m▄\u001b[0m\u001b[38;2;43;0;86;48;2;43;0;86m▄\u001b[0m\u001b[38;2;43;0;86;48;2;43;0;86m▄\u001b[0m\u001b[38;2;43;0;86;48;2;43;0;86m▄\u001b[0m\u001b[38;2;43;0;86;48;2;43;0;86m▄\u001b[0m\u001b[38;2;43;0;86;48;2;43;0;86m▄\u001b[0m\u001b[38;2;43;0;86;48;2;43;0;86m▄\u001b[0m\u001b[38;2;43;0;86;48;2;43;0;86m▄\u001b[0m\u001b[38;2;43;0;86;48;2;43;0;86m▄\u001b[0m\u001b[38;2;43;0;86;48;2;43;0;86m▄\u001b[0m\u001b[38;2;43;0;86;48;2;43;0;86m▄\u001b[0m\u001b[38;2;43;0;86;48;2;43;0;86m▄\u001b[0m\u001b[38;2;43;0;86;48;2;43;0;86m▄\u001b[0m\u001b[38;2;43;0;86;48;2;43;0;86m▄\u001b[0m\u001b[38;2;43;0;86;48;2;43;0;86m▄\u001b[0m\u001b[38;2;43;0;86;48;2;43;0;86m▄\u001b[0m\u001b[38;2;43;0;86;48;2;43;0;86m▄\u001b[0m\u001b[38;2;43;0;86;48;2;43;0;86m▄\u001b[0m\u001b[38;2;43;0;86;48;2;43;0;86m▄\u001b[0m │\n",
       "│           │ \u001b[38;2;43;0;86;48;2;43;0;86m▄\u001b[0m\u001b[38;2;43;0;86;48;2;43;0;86m▄\u001b[0m\u001b[38;2;43;0;86;48;2;43;0;86m▄\u001b[0m\u001b[38;2;43;0;86;48;2;43;0;86m▄\u001b[0m\u001b[38;2;43;0;86;48;2;43;0;86m▄\u001b[0m\u001b[38;2;43;0;86;48;2;43;0;86m▄\u001b[0m\u001b[38;2;43;0;86;48;2;43;0;86m▄\u001b[0m\u001b[38;2;43;0;86;48;2;43;0;86m▄\u001b[0m\u001b[38;2;43;0;86;48;2;43;0;86m▄\u001b[0m\u001b[38;2;43;0;86;48;2;43;0;86m▄\u001b[0m\u001b[38;2;43;0;86;48;2;43;0;86m▄\u001b[0m\u001b[38;2;43;0;86;48;2;43;0;86m▄\u001b[0m\u001b[38;2;43;0;86;48;2;43;0;86m▄\u001b[0m\u001b[38;2;43;0;86;48;2;43;0;86m▄\u001b[0m\u001b[38;2;43;0;86;48;2;43;0;86m▄\u001b[0m\u001b[38;2;43;0;86;48;2;43;0;86m▄\u001b[0m\u001b[38;2;221;188;255;48;2;221;188;255m▄\u001b[0m\u001b[38;2;43;0;86;48;2;43;0;86m▄\u001b[0m\u001b[38;2;43;0;86;48;2;43;0;86m▄\u001b[0m\u001b[38;2;43;0;86;48;2;43;0;86m▄\u001b[0m\u001b[38;2;43;0;86;48;2;43;0;86m▄\u001b[0m\u001b[38;2;43;0;86;48;2;43;0;86m▄\u001b[0m\u001b[38;2;43;0;86;48;2;43;0;86m▄\u001b[0m\u001b[38;2;43;0;86;48;2;43;0;86m▄\u001b[0m\u001b[38;2;43;0;86;48;2;43;0;86m▄\u001b[0m\u001b[38;2;43;0;86;48;2;43;0;86m▄\u001b[0m\u001b[38;2;43;0;86;48;2;43;0;86m▄\u001b[0m\u001b[38;2;43;0;86;48;2;43;0;86m▄\u001b[0m\u001b[38;2;43;0;86;48;2;43;0;86m▄\u001b[0m\u001b[38;2;43;0;86;48;2;43;0;86m▄\u001b[0m\u001b[38;2;43;0;86;48;2;43;0;86m▄\u001b[0m\u001b[38;2;43;0;86;48;2;43;0;86m▄\u001b[0m\u001b[38;2;43;0;86;48;2;43;0;86m▄\u001b[0m\u001b[38;2;43;0;86;48;2;43;0;86m▄\u001b[0m\u001b[38;2;43;0;86;48;2;43;0;86m▄\u001b[0m\u001b[38;2;43;0;86;48;2;43;0;86m▄\u001b[0m\u001b[38;2;43;0;86;48;2;43;0;86m▄\u001b[0m\u001b[38;2;43;0;86;48;2;43;0;86m▄\u001b[0m\u001b[38;2;43;0;86;48;2;43;0;86m▄\u001b[0m\u001b[38;2;43;0;86;48;2;43;0;86m▄\u001b[0m\u001b[38;2;43;0;86;48;2;43;0;86m▄\u001b[0m\u001b[38;2;43;0;86;48;2;43;0;86m▄\u001b[0m\u001b[38;2;43;0;86;48;2;43;0;86m▄\u001b[0m\u001b[38;2;43;0;86;48;2;43;0;86m▄\u001b[0m\u001b[38;2;43;0;86;48;2;43;0;86m▄\u001b[0m\u001b[38;2;43;0;86;48;2;43;0;86m▄\u001b[0m\u001b[38;2;43;0;86;48;2;43;0;86m▄\u001b[0m\u001b[38;2;43;0;86;48;2;43;0;86m▄\u001b[0m\u001b[38;2;43;0;86;48;2;43;0;86m▄\u001b[0m\u001b[38;2;43;0;86;48;2;43;0;86m▄\u001b[0m\u001b[38;2;43;0;86;48;2;43;0;86m▄\u001b[0m\u001b[38;2;43;0;86;48;2;43;0;86m▄\u001b[0m\u001b[38;2;43;0;86;48;2;43;0;86m▄\u001b[0m\u001b[38;2;43;0;86;48;2;43;0;86m▄\u001b[0m\u001b[38;2;43;0;86;48;2;43;0;86m▄\u001b[0m\u001b[38;2;43;0;86;48;2;43;0;86m▄\u001b[0m\u001b[38;2;43;0;86;48;2;43;0;86m▄\u001b[0m\u001b[38;2;43;0;86;48;2;43;0;86m▄\u001b[0m\u001b[38;2;43;0;86;48;2;43;0;86m▄\u001b[0m\u001b[38;2;43;0;86;48;2;43;0;86m▄\u001b[0m\u001b[38;2;43;0;86;48;2;43;0;86m▄\u001b[0m\u001b[38;2;43;0;86;48;2;43;0;86m▄\u001b[0m\u001b[38;2;43;0;86;48;2;43;0;86m▄\u001b[0m  │\n",
       "╰───────────┴──────────────────────────────────────────────────────────────────╯\n"
      ]
     },
     "metadata": {},
     "output_type": "display_data"
    }
   ],
   "source": [
    "# da.plot_embeddings()\n",
    "da[0]"
   ]
  },
  {
   "cell_type": "code",
   "execution_count": 9,
   "id": "b27a17c8",
   "metadata": {},
   "outputs": [],
   "source": [
    "# da.plot_embeddings()\n"
   ]
  },
  {
   "cell_type": "code",
   "execution_count": null,
   "id": "9e25957d",
   "metadata": {},
   "outputs": [],
   "source": []
  }
 ],
 "metadata": {
  "kernelspec": {
   "display_name": "Python 3 (ipykernel)",
   "language": "python",
   "name": "python3"
  },
  "language_info": {
   "codemirror_mode": {
    "name": "ipython",
    "version": 3
   },
   "file_extension": ".py",
   "mimetype": "text/x-python",
   "name": "python",
   "nbconvert_exporter": "python",
   "pygments_lexer": "ipython3",
   "version": "3.7.13"
  }
 },
 "nbformat": 4,
 "nbformat_minor": 5
}
