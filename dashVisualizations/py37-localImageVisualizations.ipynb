{
 "cells": [
  {
   "cell_type": "code",
   "execution_count": 1,
   "id": "5ab2a5af",
   "metadata": {},
   "outputs": [],
   "source": [
    "from PIL import Image\n",
    "import os\n",
    "import random\n",
    "import pandas as pd\n",
    "from io import BytesIO\n",
    "import base64\n",
    "from jupyter_dash import JupyterDash\n",
    "from dash import Dash, dcc, html, Input, Output, no_update, dash_table\n",
    "from dash.dependencies import Input, Output\n"
   ]
  },
  {
   "cell_type": "code",
   "execution_count": 2,
   "id": "ca5fb3d1",
   "metadata": {},
   "outputs": [],
   "source": [
    "def pil_to_b64(im, enc_format=\"png\", **kwargs):\n",
    "    \"\"\"\n",
    "    Converts a PIL Image into base64 string for HTML displaying\n",
    "    :param im: PIL Image object\n",
    "    :param enc_format: The image format for displaying. If saved the image will have that extension.\n",
    "    :return: base64 encoding\n",
    "    \"\"\"\n",
    "\n",
    "    buff = BytesIO()\n",
    "    im.save(buff, format=enc_format, **kwargs)\n",
    "    encoded = base64.b64encode(buff.getvalue()).decode(\"utf-8\")\n",
    "\n",
    "    return encoded\n",
    "\n",
    "def get_locations_from_folder_path(folder_path):\n",
    "    rootdir = folder_path\n",
    "    locations = []\n",
    "    for root, subdirs, files in os.walk(rootdir):\n",
    "        for filename in files:\n",
    "            file_path = os.path.join(root, filename)\n",
    "            locations.append(file_path)\n",
    "    return locations"
   ]
  },
  {
   "cell_type": "code",
   "execution_count": 3,
   "id": "1fd9141f",
   "metadata": {},
   "outputs": [],
   "source": [
    "def create_dash_app(df):\n",
    "    \n",
    "    my_list = df.index.tolist()\n",
    "    app = JupyterDash()\n",
    "    app.layout = html.Div([\n",
    "        dcc.Slider(0.1, 2, 0.1,\n",
    "               value=1,\n",
    "               id='my-slider'\n",
    "        ),\n",
    "        html.H1('Image Dataset from folder Visualization using Dash!'),\n",
    "        dcc.Dropdown(my_list,my_list[0],id='demo-dropdown_2'),\n",
    "        html.Div(id=\"barplot-container_2\",children=[]),\n",
    "        html.Div(id='dd-output-container_2'),\n",
    "        \n",
    "        \n",
    "    ])\n",
    "    @app.callback(\n",
    "        Output(component_id=\"barplot-container_2\",component_property=\"children\"),\n",
    "        [Input(component_id=\"demo-dropdown_2\",component_property=\"value\"),\n",
    "        Input(component_id='my-slider', component_property='value')]\n",
    "    )\n",
    "    def update_output(value,slider_value):\n",
    "        image = Image.open(df['location'][value])\n",
    "        image = image.resize((round(image.size[0]*slider_value), round(image.size[1]*slider_value)))\n",
    "\n",
    "        pil_img = pil_to_b64(image)\n",
    "        \n",
    "        children=[\n",
    "            html.Img(id=f\"my-img-{df['location'][value]}\",className=\"image\", src=\"data:image/png;base64, \" + pil_img,\n",
    "                    style={\"margin\":\"25px 50px 75px 100px\", \"border\": \"1px solid red\",\"height\":\"1500\",\"width\":\"3000\"})\n",
    "                    \n",
    "                \n",
    "        ]\n",
    "        return children\n",
    "    return app\n",
    "  \n",
    "def create_dash_app_from_image_folder(folder_path):\n",
    "    df = pd.DataFrame()\n",
    "    df['location'] = get_locations_from_folder_path(folder_path)\n",
    "    app = create_dash_app(df)\n",
    "    return app\n",
    "    "
   ]
  },
  {
   "cell_type": "code",
   "execution_count": 4,
   "id": "539d7815",
   "metadata": {},
   "outputs": [],
   "source": [
    "folder_path= r\"C:\\Users\\gprak\\Downloads\\youtubeVideos\\datasets\\pokemon\\images\"\n",
    "app = create_dash_app_from_image_folder(folder_path)"
   ]
  },
  {
   "cell_type": "code",
   "execution_count": 5,
   "id": "bb938796",
   "metadata": {},
   "outputs": [
    {
     "name": "stdout",
     "output_type": "stream",
     "text": [
      "Dash app running on http://127.0.0.1:5010/\n"
     ]
    }
   ],
   "source": [
    "app.run_server(mode=\"external\",port = 5010)"
   ]
  },
  {
   "cell_type": "code",
   "execution_count": null,
   "id": "97269c5a",
   "metadata": {},
   "outputs": [],
   "source": []
  }
 ],
 "metadata": {
  "kernelspec": {
   "display_name": "Python 3 (ipykernel)",
   "language": "python",
   "name": "python3"
  },
  "language_info": {
   "codemirror_mode": {
    "name": "ipython",
    "version": 3
   },
   "file_extension": ".py",
   "mimetype": "text/x-python",
   "name": "python",
   "nbconvert_exporter": "python",
   "pygments_lexer": "ipython3",
   "version": "3.7.13"
  }
 },
 "nbformat": 4,
 "nbformat_minor": 5
}
