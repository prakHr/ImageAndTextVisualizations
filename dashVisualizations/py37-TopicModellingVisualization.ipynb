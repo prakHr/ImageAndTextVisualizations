{
 "cells": [
  {
   "cell_type": "code",
   "execution_count": 1,
   "id": "f9677f91",
   "metadata": {},
   "outputs": [],
   "source": [
    "from bertopic import BERTopic\n",
    "import pandas as pd \n",
    "import numpy as np\n",
    "import plotly.express as px\n",
    "import plotly.graph_objects as go\n",
    "from jupyter_dash import JupyterDash\n",
    "from dash import dcc,html,dash_table\n",
    "from dash.dependencies import Input,Output,State\n"
   ]
  },
  {
   "cell_type": "code",
   "execution_count": 2,
   "id": "cd2d8d2b",
   "metadata": {},
   "outputs": [
    {
     "name": "stdout",
     "output_type": "stream",
     "text": [
      "Requirement already satisfied: colorlover in c:\\users\\gprak\\anaconda3\\envs\\py37\\lib\\site-packages (0.3.0)\n"
     ]
    }
   ],
   "source": [
    "#!pip install colorlover"
   ]
  },
  {
   "cell_type": "code",
   "execution_count": 3,
   "id": "7e245d81",
   "metadata": {},
   "outputs": [],
   "source": [
    "csv_file = r\"C:\\Users\\gprak\\Downloads\\youtubeVideos\\datasets\\subjects-questions\\subjects-questions.csv\"\n",
    "df = pd.read_csv(csv_file)"
   ]
  },
  {
   "cell_type": "code",
   "execution_count": 4,
   "id": "940aff13",
   "metadata": {},
   "outputs": [
    {
     "data": {
      "text/plain": [
       "Index(['eng', 'Subject'], dtype='object')"
      ]
     },
     "execution_count": 4,
     "metadata": {},
     "output_type": "execute_result"
    }
   ],
   "source": [
    "df.columns"
   ]
  },
  {
   "cell_type": "code",
   "execution_count": 5,
   "id": "fbbd1311",
   "metadata": {},
   "outputs": [],
   "source": [
    "text = df['eng'].tolist()\n",
    "target = df['Subject'].tolist()"
   ]
  },
  {
   "cell_type": "code",
   "execution_count": 8,
   "id": "312a78e9",
   "metadata": {},
   "outputs": [
    {
     "data": {
      "application/vnd.jupyter.widget-view+json": {
       "model_id": "63cd32da44af4df0a5df96169d23f3a3",
       "version_major": 2,
       "version_minor": 0
      },
      "text/plain": [
       "Batches:   0%|          | 0/3829 [00:00<?, ?it/s]"
      ]
     },
     "metadata": {},
     "output_type": "display_data"
    },
    {
     "name": "stderr",
     "output_type": "stream",
     "text": [
      "2022-08-06 16:21:32,724 - BERTopic - Transformed documents to Embeddings\n",
      "2022-08-06 16:22:33,071 - BERTopic - Reduced dimensionality\n",
      "2022-08-06 16:22:41,018 - BERTopic - Clustered reduced embeddings\n"
     ]
    }
   ],
   "source": [
    "docs = text\n",
    "topic_model = BERTopic(verbose=True)\n",
    "# For supervised learning\n",
    "# topics, probs = topic_model.fit_transform(docs,y=target)\n",
    "# For semisupervised learning\n",
    "topics, probs = topic_model.fit_transform(docs)\n"
   ]
  },
  {
   "cell_type": "code",
   "execution_count": 9,
   "id": "bd916261",
   "metadata": {},
   "outputs": [
    {
     "name": "stdout",
     "output_type": "stream",
     "text": [
      "First 10 relevant topics are :- \n",
      "   Topic  Count                                        Name\n",
      "0     -1  45647                            -1_h2_true_h3_o2\n",
      "1      0    734                      0_tan_cot_cos_1leftcos\n",
      "2      1    651                         1_z1_complex_z2_arg\n",
      "3      2    597     2_matrix_1endarrayright_matrices_mathbf\n",
      "4      3    579                3_mean_median_deviation_data\n",
      "5      4    575               4_angle_angles_measure_60circ\n",
      "6      5    548  5_particle_acceleration_graph_velocitytime\n",
      "7      6    546           6_min_rate_reaction_concentration\n",
      "8      7    531                         7_theta_tan_cos_sin\n",
      "9      8    495                        8_int0pi_int_xcos_xc\n"
     ]
    }
   ],
   "source": [
    "topic_df = topic_model.get_topic_info()\n",
    "print(f\"First 10 relevant topics are :- \\n{topic_df.head(10)}\")"
   ]
  },
  {
   "cell_type": "code",
   "execution_count": 10,
   "id": "31a28930",
   "metadata": {},
   "outputs": [],
   "source": [
    "def data_bars(df, column):\n",
    "    n_bins = 100\n",
    "    bounds = [i * (1.0 / n_bins) for i in range(n_bins + 1)]\n",
    "    ranges = [\n",
    "        ((df[column].max() - df[column].min()) * i) + df[column].min()\n",
    "        for i in bounds\n",
    "    ]\n",
    "    styles = []\n",
    "    for i in range(1, len(bounds)):\n",
    "        min_bound = ranges[i - 1]\n",
    "        max_bound = ranges[i]\n",
    "        max_bound_percentage = bounds[i] * 100\n",
    "        styles.append({\n",
    "            'if': {\n",
    "                'filter_query': (\n",
    "                    '{{{column}}} >= {min_bound}' +\n",
    "                    (' && {{{column}}} < {max_bound}' if (i < len(bounds) - 1) else '')\n",
    "                ).format(column=column, min_bound=min_bound, max_bound=max_bound),\n",
    "                'column_id': column\n",
    "            },\n",
    "            'background': (\n",
    "                \"\"\"\n",
    "                    linear-gradient(90deg,\n",
    "                    #0074D9 0%,\n",
    "                    #0074D9 {max_bound_percentage}%,\n",
    "                    white {max_bound_percentage}%,\n",
    "                    white 100%)\n",
    "                \"\"\".format(max_bound_percentage=max_bound_percentage)\n",
    "            ),\n",
    "            'paddingBottom': 2,\n",
    "            'paddingTop': 2\n",
    "        })\n",
    "\n",
    "    return styles\n",
    "\n",
    "\n",
    "def data_bars_diverging(df, column, color_above='#3D9970', color_below='#FF4136'):\n",
    "    n_bins = 100\n",
    "    bounds = [i * (1.0 / n_bins) for i in range(n_bins + 1)]\n",
    "    col_max = df[column].max()\n",
    "    col_min = df[column].min()\n",
    "    ranges = [\n",
    "        ((col_max - col_min) * i) + col_min\n",
    "        for i in bounds\n",
    "    ]\n",
    "    midpoint = (col_max + col_min) / 2.\n",
    "\n",
    "    styles = []\n",
    "    for i in range(1, len(bounds)):\n",
    "        min_bound = ranges[i - 1]\n",
    "        max_bound = ranges[i]\n",
    "        min_bound_percentage = bounds[i - 1] * 100\n",
    "        max_bound_percentage = bounds[i] * 100\n",
    "\n",
    "        style = {\n",
    "            'if': {\n",
    "                'filter_query': (\n",
    "                    '{{{column}}} >= {min_bound}' +\n",
    "                    (' && {{{column}}} < {max_bound}' if (i < len(bounds) - 1) else '')\n",
    "                ).format(column=column, min_bound=min_bound, max_bound=max_bound),\n",
    "                'column_id': column\n",
    "            },\n",
    "            'paddingBottom': 2,\n",
    "            'paddingTop': 2\n",
    "        }\n",
    "        if max_bound > midpoint:\n",
    "            background = (\n",
    "                \"\"\"\n",
    "                    linear-gradient(90deg,\n",
    "                    white 0%,\n",
    "                    white 50%,\n",
    "                    {color_above} 50%,\n",
    "                    {color_above} {max_bound_percentage}%,\n",
    "                    white {max_bound_percentage}%,\n",
    "                    white 100%)\n",
    "                \"\"\".format(\n",
    "                    max_bound_percentage=max_bound_percentage,\n",
    "                    color_above=color_above\n",
    "                )\n",
    "            )\n",
    "        else:\n",
    "            background = (\n",
    "                \"\"\"\n",
    "                    linear-gradient(90deg,\n",
    "                    white 0%,\n",
    "                    white {min_bound_percentage}%,\n",
    "                    {color_below} {min_bound_percentage}%,\n",
    "                    {color_below} 50%,\n",
    "                    white 50%,\n",
    "                    white 100%)\n",
    "                \"\"\".format(\n",
    "                    min_bound_percentage=min_bound_percentage,\n",
    "                    color_below=color_below\n",
    "                )\n",
    "            )\n",
    "        style['background'] = background\n",
    "        styles.append(style)\n",
    "\n",
    "    return styles\n",
    "\n",
    "def discrete_background_color_bins(df, n_bins=5, columns='all'):\n",
    "    import colorlover\n",
    "    bounds = [i * (1.0 / n_bins) for i in range(n_bins + 1)]\n",
    "    if columns == 'all':\n",
    "        if 'id' in df:\n",
    "            df_numeric_columns = df.select_dtypes('number').drop(['id'], axis=1)\n",
    "        else:\n",
    "            df_numeric_columns = df.select_dtypes('number')\n",
    "    else:\n",
    "        df_numeric_columns = df[columns]\n",
    "    df_max = df_numeric_columns.max().max()\n",
    "    df_min = df_numeric_columns.min().min()\n",
    "    ranges = [\n",
    "        ((df_max - df_min) * i) + df_min\n",
    "        for i in bounds\n",
    "    ]\n",
    "    styles = []\n",
    "    legend = []\n",
    "    for i in range(1, len(bounds)):\n",
    "        min_bound = ranges[i - 1]\n",
    "        max_bound = ranges[i]\n",
    "        backgroundColor = colorlover.scales[str(n_bins)]['seq']['Blues'][i - 1]\n",
    "        color = 'white' if i > len(bounds) / 2. else 'inherit'\n",
    "\n",
    "        for column in df_numeric_columns:\n",
    "            styles.append({\n",
    "                'if': {\n",
    "                    'filter_query': (\n",
    "                        '{{{column}}} >= {min_bound}' +\n",
    "                        (' && {{{column}}} < {max_bound}' if (i < len(bounds) - 1) else '')\n",
    "                    ).format(column=column, min_bound=min_bound, max_bound=max_bound),\n",
    "                    'column_id': column\n",
    "                },\n",
    "                'backgroundColor': backgroundColor,\n",
    "                'color': color\n",
    "            })\n",
    "        legend.append(\n",
    "            html.Div(style={'display': 'inline-block', 'width': '60px'}, children=[\n",
    "                html.Div(\n",
    "                    style={\n",
    "                        'backgroundColor': backgroundColor,\n",
    "                        'borderLeft': '1px rgb(50, 50, 50) solid',\n",
    "                        'height': '10px'\n",
    "                    }\n",
    "                ),\n",
    "                html.Small(round(min_bound, 2), style={'paddingLeft': '2px'})\n",
    "            ])\n",
    "        )\n",
    "\n",
    "    return (styles, html.Div(legend, style={'padding': '5px 0 5px 0'}))\n",
    "\n"
   ]
  },
  {
   "cell_type": "code",
   "execution_count": 11,
   "id": "119f0b18",
   "metadata": {},
   "outputs": [],
   "source": [
    "def create_dash_bar_charts_for_each_topic(topic_model):\n",
    "    top_relevant_topics = topic_model.get_topic_info()\n",
    "    \n",
    "    (styles, legend) = discrete_background_color_bins(top_relevant_topics, columns=['Count'])\n",
    "    my_list = list(range(len(top_relevant_topics)))\n",
    "    #print(my_list)\n",
    "    app = JupyterDash()\n",
    "    app.layout = html.Div([\n",
    "        \n",
    "        html.H1('Semi Supervised and Unsupervised Topic Modelling Visualization using Dash!'),\n",
    "        dcc.Dropdown(my_list,my_list[0],id='demo-dropdown_2'),\n",
    "        html.Div(id=\"barplot-container_2\",children=[]),\n",
    "        html.Div(id='dd-output-container_2'),\n",
    "        dash_table.DataTable(\n",
    "            data=top_relevant_topics.to_dict('records'),\n",
    "            sort_action='native',\n",
    "            columns=[{'name': i, 'id': i} for i in top_relevant_topics.columns],\n",
    "            style_data_conditional=(\n",
    "                data_bars(top_relevant_topics, 'Count') \n",
    "            ),\n",
    "            style_cell={\n",
    "                'width': '100px',\n",
    "                'minWidth': '100px',\n",
    "                'maxWidth': '100px',\n",
    "                'overflow': 'hidden',\n",
    "                'textOverflow': 'ellipsis',\n",
    "            },\n",
    "            page_size=20\n",
    "        ),\n",
    "#         dash_table.DataTable(\n",
    "#             data=bottom_10_relevant_topics.to_dict('records'),\n",
    "#             sort_action='native',\n",
    "#             columns=[{'name': i, 'id': i} for i in bottom_10_relevant_topics.columns],\n",
    "#             style_data_conditional=(\n",
    "#                 data_bars(bottom_10_relevant_topics, 'Count') \n",
    "#             ),\n",
    "#             style_cell={\n",
    "#                 'width': '100px',\n",
    "#                 'minWidth': '100px',\n",
    "#                 'maxWidth': '100px',\n",
    "#                 'overflow': 'hidden',\n",
    "#                 'textOverflow': 'ellipsis',\n",
    "#             },\n",
    "#             page_size=20\n",
    "#         ),\n",
    "#         dash_table.DataTable(\n",
    "#             data=top_10_relevant_topics.to_dict('records'),\n",
    "#             sort_action='native',\n",
    "#             columns=[{'name': i, 'id': i} for i in top_10_relevant_topics.columns],\n",
    "#             style_data_conditional=styles\n",
    "#         ),\n",
    "#          dash_table.DataTable(\n",
    "#             data=bottom_10_relevant_topics.to_dict('records'),\n",
    "#             sort_action='native',\n",
    "#             columns=[{'name': i, 'id': i} for i in bottom_10_relevant_topics.columns],\n",
    "#             style_data_conditional=styles\n",
    "#         )\n",
    "    ])\n",
    "    @app.callback(\n",
    "        Output(component_id=\"barplot-container_2\",component_property=\"children\"),\n",
    "        Input(component_id=\"demo-dropdown_2\",component_property=\"value\")\n",
    "    )\n",
    "    def update_output(value):\n",
    "        my_sub_list = topic_model.get_topic(value)  \n",
    "        cols_x = [a for (a,b) in my_sub_list]\n",
    "        cols_y = [b for (a,b) in my_sub_list]\n",
    "        fig_2 = px.bar(x=cols_x,y=cols_y,title = f\"Most common features of topic number {value}\")\n",
    "        \n",
    "        return [dcc.Graph(figure=fig_2)]\n",
    "    return app\n",
    "    \n",
    "    "
   ]
  },
  {
   "cell_type": "code",
   "execution_count": 12,
   "id": "79532daa",
   "metadata": {},
   "outputs": [],
   "source": [
    "app = create_dash_bar_charts_for_each_topic(topic_model)\n"
   ]
  },
  {
   "cell_type": "code",
   "execution_count": 13,
   "id": "0cccbd0d",
   "metadata": {},
   "outputs": [
    {
     "name": "stdout",
     "output_type": "stream",
     "text": [
      "Dash app running on http://127.0.0.1:8020/\n"
     ]
    }
   ],
   "source": [
    "app.run_server(mode=\"external\",port=8020)"
   ]
  },
  {
   "cell_type": "code",
   "execution_count": null,
   "id": "63e55a61",
   "metadata": {},
   "outputs": [],
   "source": []
  }
 ],
 "metadata": {
  "kernelspec": {
   "display_name": "Python 3 (ipykernel)",
   "language": "python",
   "name": "python3"
  },
  "language_info": {
   "codemirror_mode": {
    "name": "ipython",
    "version": 3
   },
   "file_extension": ".py",
   "mimetype": "text/x-python",
   "name": "python",
   "nbconvert_exporter": "python",
   "pygments_lexer": "ipython3",
   "version": "3.7.13"
  }
 },
 "nbformat": 4,
 "nbformat_minor": 5
}
