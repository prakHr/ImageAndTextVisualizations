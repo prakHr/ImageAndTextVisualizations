{
 "cells": [
  {
   "cell_type": "code",
   "execution_count": 14,
   "id": "1970ce1e",
   "metadata": {},
   "outputs": [],
   "source": [
    "import PyPDF2 \n",
    "import pandas as pd\n",
    "import os"
   ]
  },
  {
   "cell_type": "code",
   "execution_count": 15,
   "id": "4f079750",
   "metadata": {},
   "outputs": [],
   "source": [
    "def pdfToDataFrame(path,out_save_folder_path,handwritten_font='French Script MT',font_size='51px'):\n",
    "    \n",
    "    df = pd.DataFrame()\n",
    "    # creating a pdf file object \n",
    "    pdfFileObj = open(path, 'rb') \n",
    "    \n",
    "    # creating a pdf reader object \n",
    "    pdfReader = PyPDF2.PdfFileReader(pdfFileObj) \n",
    "    \n",
    "    # printing number of pages in pdf file \n",
    "    print(pdfReader.numPages) \n",
    "    \n",
    "    articles=[]\n",
    "    def get_info(pdfReader,i):\n",
    "        pageObj = pdfReader.getPage(i) \n",
    "        return pageObj.extractText()\n",
    "    \n",
    "    def convert_into_handwritten_content(i,font_size,handwritten_font,text,out_save_folder_path):\n",
    "        file_handle = open(os.path.join(out_save_folder_path,f\"page-{i}.html\"), \"w+b\")\n",
    "        my_str_as_bytes = str.encode(f\"<p style='font-size:{font_size};font-family:{handwritten_font};'>{text}</p>\")\n",
    "        html = my_str_as_bytes\n",
    "        file_handle.write(html)\n",
    "        file_handle.close()\n",
    "        return 'successfully converted'\n",
    "        \n",
    "    df['individual_pages_number']=list(range(0,pdfReader.numPages))\n",
    "    df['individual_pages_text']=df['individual_pages_number'].apply(lambda x:get_info(pdfReader,x))\n",
    "#     df['col_3'] = df.apply(lambda x: f(x.col_1, x.col_2), axis=1)\n",
    "    df['message']=df.apply(lambda x:convert_into_handwritten_content(x.individual_pages_number,font_size,handwritten_font,x.individual_pages_text,out_save_folder_path),axis=1)\n",
    "\n",
    "    return df"
   ]
  },
  {
   "cell_type": "code",
   "execution_count": 16,
   "id": "74f5e9ed",
   "metadata": {},
   "outputs": [
    {
     "name": "stderr",
     "output_type": "stream",
     "text": [
      "Xref table not zero-indexed. ID numbers for objects will be corrected.\n"
     ]
    },
    {
     "name": "stdout",
     "output_type": "stream",
     "text": [
      "11\n"
     ]
    }
   ],
   "source": [
    "out_save_folder_path = r\"C:\\Users\\gprak\\Downloads\\youtubeVideos\\pdfs\"\n",
    "input_article_path = r\"C:\\Users\\gprak\\Downloads\\youtubeVideos\\pdfs\\article.pdf\"\n",
    "df=pdfToDataFrame(input_article_path,out_save_folder_path,handwritten_font = \"Bradley Hand ITC\")"
   ]
  },
  {
   "cell_type": "code",
   "execution_count": 17,
   "id": "b031e992",
   "metadata": {},
   "outputs": [
    {
     "data": {
      "text/html": [
       "<div>\n",
       "<style scoped>\n",
       "    .dataframe tbody tr th:only-of-type {\n",
       "        vertical-align: middle;\n",
       "    }\n",
       "\n",
       "    .dataframe tbody tr th {\n",
       "        vertical-align: top;\n",
       "    }\n",
       "\n",
       "    .dataframe thead th {\n",
       "        text-align: right;\n",
       "    }\n",
       "</style>\n",
       "<table border=\"1\" class=\"dataframe\">\n",
       "  <thead>\n",
       "    <tr style=\"text-align: right;\">\n",
       "      <th></th>\n",
       "      <th>individual_pages_number</th>\n",
       "      <th>individual_pages_text</th>\n",
       "      <th>message</th>\n",
       "    </tr>\n",
       "  </thead>\n",
       "  <tbody>\n",
       "    <tr>\n",
       "      <th>0</th>\n",
       "      <td>0</td>\n",
       "      <td>FUNDAMENTALS\\nMachine learning and deep learni...</td>\n",
       "      <td>successfully converted</td>\n",
       "    </tr>\n",
       "    <tr>\n",
       "      <th>1</th>\n",
       "      <td>1</td>\n",
       "      <td>knowledge into a machine-accessible form and a...</td>\n",
       "      <td>successfully converted</td>\n",
       "    </tr>\n",
       "    <tr>\n",
       "      <th>2</th>\n",
       "      <td>2</td>\n",
       "      <td>Depending on the learning task, the field offe...</td>\n",
       "      <td>successfully converted</td>\n",
       "    </tr>\n",
       "    <tr>\n",
       "      <th>3</th>\n",
       "      <td>3</td>\n",
       "      <td>needed for the corresponding learning task. Th...</td>\n",
       "      <td>successfully converted</td>\n",
       "    </tr>\n",
       "    <tr>\n",
       "      <th>4</th>\n",
       "      <td>4</td>\n",
       "      <td>vectors (Salton and Buckley 1988 ), part-of-sp...</td>\n",
       "      <td>successfully converted</td>\n",
       "    </tr>\n",
       "    <tr>\n",
       "      <th>5</th>\n",
       "      <td>5</td>\n",
       "      <td>whereas classification models are assessed by ...</td>\n",
       "      <td>successfully converted</td>\n",
       "    </tr>\n",
       "    <tr>\n",
       "      <th>6</th>\n",
       "      <td>6</td>\n",
       "      <td>properties such as the type of learning mechan...</td>\n",
       "      <td>successfully converted</td>\n",
       "    </tr>\n",
       "    <tr>\n",
       "      <th>7</th>\n",
       "      <td>7</td>\n",
       "      <td>over time ”(Gama et al. 2014 ). That is, ML mo...</td>\n",
       "      <td>successfully converted</td>\n",
       "    </tr>\n",
       "    <tr>\n",
       "      <th>8</th>\n",
       "      <td>8</td>\n",
       "      <td>learning from already establi shed models to o...</td>\n",
       "      <td>successfully converted</td>\n",
       "    </tr>\n",
       "    <tr>\n",
       "      <th>9</th>\n",
       "      <td>9</td>\n",
       "      <td>Fuchs, D. J. (2018). The dangers of human-like...</td>\n",
       "      <td>successfully converted</td>\n",
       "    </tr>\n",
       "    <tr>\n",
       "      <th>10</th>\n",
       "      <td>10</td>\n",
       "      <td>play. Science, 362 (6419), 1140 –1144. https:/...</td>\n",
       "      <td>successfully converted</td>\n",
       "    </tr>\n",
       "  </tbody>\n",
       "</table>\n",
       "</div>"
      ],
      "text/plain": [
       "    individual_pages_number  \\\n",
       "0                         0   \n",
       "1                         1   \n",
       "2                         2   \n",
       "3                         3   \n",
       "4                         4   \n",
       "5                         5   \n",
       "6                         6   \n",
       "7                         7   \n",
       "8                         8   \n",
       "9                         9   \n",
       "10                       10   \n",
       "\n",
       "                                individual_pages_text                 message  \n",
       "0   FUNDAMENTALS\\nMachine learning and deep learni...  successfully converted  \n",
       "1   knowledge into a machine-accessible form and a...  successfully converted  \n",
       "2   Depending on the learning task, the field offe...  successfully converted  \n",
       "3   needed for the corresponding learning task. Th...  successfully converted  \n",
       "4   vectors (Salton and Buckley 1988 ), part-of-sp...  successfully converted  \n",
       "5   whereas classification models are assessed by ...  successfully converted  \n",
       "6   properties such as the type of learning mechan...  successfully converted  \n",
       "7   over time ”(Gama et al. 2014 ). That is, ML mo...  successfully converted  \n",
       "8   learning from already establi shed models to o...  successfully converted  \n",
       "9   Fuchs, D. J. (2018). The dangers of human-like...  successfully converted  \n",
       "10  play. Science, 362 (6419), 1140 –1144. https:/...  successfully converted  "
      ]
     },
     "execution_count": 17,
     "metadata": {},
     "output_type": "execute_result"
    }
   ],
   "source": [
    "df"
   ]
  },
  {
   "cell_type": "code",
   "execution_count": null,
   "id": "f658864a",
   "metadata": {},
   "outputs": [],
   "source": []
  }
 ],
 "metadata": {
  "kernelspec": {
   "display_name": "Python 3 (ipykernel)",
   "language": "python",
   "name": "python3"
  },
  "language_info": {
   "codemirror_mode": {
    "name": "ipython",
    "version": 3
   },
   "file_extension": ".py",
   "mimetype": "text/x-python",
   "name": "python",
   "nbconvert_exporter": "python",
   "pygments_lexer": "ipython3",
   "version": "3.7.13"
  }
 },
 "nbformat": 4,
 "nbformat_minor": 5
}
